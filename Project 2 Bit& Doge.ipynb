{
 "cells": [
  {
   "cell_type": "code",
   "execution_count": 1,
   "id": "25a793f2",
   "metadata": {},
   "outputs": [],
   "source": [
    "import os\n",
    "import csv\n",
    "import pandas as pd\n",
    "import datetime as dt\n",
    "import matplotlib.pyplot as plt"
   ]
  },
  {
   "cell_type": "code",
   "execution_count": 2,
   "id": "da2bbdbb",
   "metadata": {},
   "outputs": [],
   "source": [
    "crypto = \"Crypto_Fund_List without emails.csv\""
   ]
  },
  {
   "cell_type": "code",
   "execution_count": 3,
   "id": "e49bf384",
   "metadata": {},
   "outputs": [
    {
     "ename": "FileNotFoundError",
     "evalue": "[Errno 2] No such file or directory: 'Crypto_Fund_List without emails.csv'",
     "output_type": "error",
     "traceback": [
      "\u001b[1;31m---------------------------------------------------------------------------\u001b[0m",
      "\u001b[1;31mFileNotFoundError\u001b[0m                         Traceback (most recent call last)",
      "\u001b[1;32m<ipython-input-3-9c5dbedec55d>\u001b[0m in \u001b[0;36m<module>\u001b[1;34m\u001b[0m\n\u001b[1;32m----> 1\u001b[1;33m \u001b[0mcrypto_df\u001b[0m \u001b[1;33m=\u001b[0m \u001b[0mpd\u001b[0m\u001b[1;33m.\u001b[0m\u001b[0mread_csv\u001b[0m\u001b[1;33m(\u001b[0m\u001b[0mcrypto\u001b[0m\u001b[1;33m)\u001b[0m\u001b[1;33m\u001b[0m\u001b[1;33m\u001b[0m\u001b[0m\n\u001b[0m\u001b[0;32m      2\u001b[0m \u001b[0mcrypto_df\u001b[0m\u001b[1;33m.\u001b[0m\u001b[0mhead\u001b[0m\u001b[1;33m(\u001b[0m\u001b[1;33m)\u001b[0m\u001b[1;33m\u001b[0m\u001b[1;33m\u001b[0m\u001b[0m\n",
      "\u001b[1;32m~\\anaconda3\\Python\\lib\\site-packages\\pandas\\io\\parsers.py\u001b[0m in \u001b[0;36mread_csv\u001b[1;34m(filepath_or_buffer, sep, delimiter, header, names, index_col, usecols, squeeze, prefix, mangle_dupe_cols, dtype, engine, converters, true_values, false_values, skipinitialspace, skiprows, skipfooter, nrows, na_values, keep_default_na, na_filter, verbose, skip_blank_lines, parse_dates, infer_datetime_format, keep_date_col, date_parser, dayfirst, cache_dates, iterator, chunksize, compression, thousands, decimal, lineterminator, quotechar, quoting, doublequote, escapechar, comment, encoding, dialect, error_bad_lines, warn_bad_lines, delim_whitespace, low_memory, memory_map, float_precision, storage_options)\u001b[0m\n\u001b[0;32m    608\u001b[0m     \u001b[0mkwds\u001b[0m\u001b[1;33m.\u001b[0m\u001b[0mupdate\u001b[0m\u001b[1;33m(\u001b[0m\u001b[0mkwds_defaults\u001b[0m\u001b[1;33m)\u001b[0m\u001b[1;33m\u001b[0m\u001b[1;33m\u001b[0m\u001b[0m\n\u001b[0;32m    609\u001b[0m \u001b[1;33m\u001b[0m\u001b[0m\n\u001b[1;32m--> 610\u001b[1;33m     \u001b[1;32mreturn\u001b[0m \u001b[0m_read\u001b[0m\u001b[1;33m(\u001b[0m\u001b[0mfilepath_or_buffer\u001b[0m\u001b[1;33m,\u001b[0m \u001b[0mkwds\u001b[0m\u001b[1;33m)\u001b[0m\u001b[1;33m\u001b[0m\u001b[1;33m\u001b[0m\u001b[0m\n\u001b[0m\u001b[0;32m    611\u001b[0m \u001b[1;33m\u001b[0m\u001b[0m\n\u001b[0;32m    612\u001b[0m \u001b[1;33m\u001b[0m\u001b[0m\n",
      "\u001b[1;32m~\\anaconda3\\Python\\lib\\site-packages\\pandas\\io\\parsers.py\u001b[0m in \u001b[0;36m_read\u001b[1;34m(filepath_or_buffer, kwds)\u001b[0m\n\u001b[0;32m    460\u001b[0m \u001b[1;33m\u001b[0m\u001b[0m\n\u001b[0;32m    461\u001b[0m     \u001b[1;31m# Create the parser.\u001b[0m\u001b[1;33m\u001b[0m\u001b[1;33m\u001b[0m\u001b[1;33m\u001b[0m\u001b[0m\n\u001b[1;32m--> 462\u001b[1;33m     \u001b[0mparser\u001b[0m \u001b[1;33m=\u001b[0m \u001b[0mTextFileReader\u001b[0m\u001b[1;33m(\u001b[0m\u001b[0mfilepath_or_buffer\u001b[0m\u001b[1;33m,\u001b[0m \u001b[1;33m**\u001b[0m\u001b[0mkwds\u001b[0m\u001b[1;33m)\u001b[0m\u001b[1;33m\u001b[0m\u001b[1;33m\u001b[0m\u001b[0m\n\u001b[0m\u001b[0;32m    463\u001b[0m \u001b[1;33m\u001b[0m\u001b[0m\n\u001b[0;32m    464\u001b[0m     \u001b[1;32mif\u001b[0m \u001b[0mchunksize\u001b[0m \u001b[1;32mor\u001b[0m \u001b[0miterator\u001b[0m\u001b[1;33m:\u001b[0m\u001b[1;33m\u001b[0m\u001b[1;33m\u001b[0m\u001b[0m\n",
      "\u001b[1;32m~\\anaconda3\\Python\\lib\\site-packages\\pandas\\io\\parsers.py\u001b[0m in \u001b[0;36m__init__\u001b[1;34m(self, f, engine, **kwds)\u001b[0m\n\u001b[0;32m    817\u001b[0m             \u001b[0mself\u001b[0m\u001b[1;33m.\u001b[0m\u001b[0moptions\u001b[0m\u001b[1;33m[\u001b[0m\u001b[1;34m\"has_index_names\"\u001b[0m\u001b[1;33m]\u001b[0m \u001b[1;33m=\u001b[0m \u001b[0mkwds\u001b[0m\u001b[1;33m[\u001b[0m\u001b[1;34m\"has_index_names\"\u001b[0m\u001b[1;33m]\u001b[0m\u001b[1;33m\u001b[0m\u001b[1;33m\u001b[0m\u001b[0m\n\u001b[0;32m    818\u001b[0m \u001b[1;33m\u001b[0m\u001b[0m\n\u001b[1;32m--> 819\u001b[1;33m         \u001b[0mself\u001b[0m\u001b[1;33m.\u001b[0m\u001b[0m_engine\u001b[0m \u001b[1;33m=\u001b[0m \u001b[0mself\u001b[0m\u001b[1;33m.\u001b[0m\u001b[0m_make_engine\u001b[0m\u001b[1;33m(\u001b[0m\u001b[0mself\u001b[0m\u001b[1;33m.\u001b[0m\u001b[0mengine\u001b[0m\u001b[1;33m)\u001b[0m\u001b[1;33m\u001b[0m\u001b[1;33m\u001b[0m\u001b[0m\n\u001b[0m\u001b[0;32m    820\u001b[0m \u001b[1;33m\u001b[0m\u001b[0m\n\u001b[0;32m    821\u001b[0m     \u001b[1;32mdef\u001b[0m \u001b[0mclose\u001b[0m\u001b[1;33m(\u001b[0m\u001b[0mself\u001b[0m\u001b[1;33m)\u001b[0m\u001b[1;33m:\u001b[0m\u001b[1;33m\u001b[0m\u001b[1;33m\u001b[0m\u001b[0m\n",
      "\u001b[1;32m~\\anaconda3\\Python\\lib\\site-packages\\pandas\\io\\parsers.py\u001b[0m in \u001b[0;36m_make_engine\u001b[1;34m(self, engine)\u001b[0m\n\u001b[0;32m   1048\u001b[0m             )\n\u001b[0;32m   1049\u001b[0m         \u001b[1;31m# error: Too many arguments for \"ParserBase\"\u001b[0m\u001b[1;33m\u001b[0m\u001b[1;33m\u001b[0m\u001b[1;33m\u001b[0m\u001b[0m\n\u001b[1;32m-> 1050\u001b[1;33m         \u001b[1;32mreturn\u001b[0m \u001b[0mmapping\u001b[0m\u001b[1;33m[\u001b[0m\u001b[0mengine\u001b[0m\u001b[1;33m]\u001b[0m\u001b[1;33m(\u001b[0m\u001b[0mself\u001b[0m\u001b[1;33m.\u001b[0m\u001b[0mf\u001b[0m\u001b[1;33m,\u001b[0m \u001b[1;33m**\u001b[0m\u001b[0mself\u001b[0m\u001b[1;33m.\u001b[0m\u001b[0moptions\u001b[0m\u001b[1;33m)\u001b[0m  \u001b[1;31m# type: ignore[call-arg]\u001b[0m\u001b[1;33m\u001b[0m\u001b[1;33m\u001b[0m\u001b[0m\n\u001b[0m\u001b[0;32m   1051\u001b[0m \u001b[1;33m\u001b[0m\u001b[0m\n\u001b[0;32m   1052\u001b[0m     \u001b[1;32mdef\u001b[0m \u001b[0m_failover_to_python\u001b[0m\u001b[1;33m(\u001b[0m\u001b[0mself\u001b[0m\u001b[1;33m)\u001b[0m\u001b[1;33m:\u001b[0m\u001b[1;33m\u001b[0m\u001b[1;33m\u001b[0m\u001b[0m\n",
      "\u001b[1;32m~\\anaconda3\\Python\\lib\\site-packages\\pandas\\io\\parsers.py\u001b[0m in \u001b[0;36m__init__\u001b[1;34m(self, src, **kwds)\u001b[0m\n\u001b[0;32m   1865\u001b[0m \u001b[1;33m\u001b[0m\u001b[0m\n\u001b[0;32m   1866\u001b[0m         \u001b[1;31m# open handles\u001b[0m\u001b[1;33m\u001b[0m\u001b[1;33m\u001b[0m\u001b[1;33m\u001b[0m\u001b[0m\n\u001b[1;32m-> 1867\u001b[1;33m         \u001b[0mself\u001b[0m\u001b[1;33m.\u001b[0m\u001b[0m_open_handles\u001b[0m\u001b[1;33m(\u001b[0m\u001b[0msrc\u001b[0m\u001b[1;33m,\u001b[0m \u001b[0mkwds\u001b[0m\u001b[1;33m)\u001b[0m\u001b[1;33m\u001b[0m\u001b[1;33m\u001b[0m\u001b[0m\n\u001b[0m\u001b[0;32m   1868\u001b[0m         \u001b[1;32massert\u001b[0m \u001b[0mself\u001b[0m\u001b[1;33m.\u001b[0m\u001b[0mhandles\u001b[0m \u001b[1;32mis\u001b[0m \u001b[1;32mnot\u001b[0m \u001b[1;32mNone\u001b[0m\u001b[1;33m\u001b[0m\u001b[1;33m\u001b[0m\u001b[0m\n\u001b[0;32m   1869\u001b[0m         \u001b[1;32mfor\u001b[0m \u001b[0mkey\u001b[0m \u001b[1;32min\u001b[0m \u001b[1;33m(\u001b[0m\u001b[1;34m\"storage_options\"\u001b[0m\u001b[1;33m,\u001b[0m \u001b[1;34m\"encoding\"\u001b[0m\u001b[1;33m,\u001b[0m \u001b[1;34m\"memory_map\"\u001b[0m\u001b[1;33m,\u001b[0m \u001b[1;34m\"compression\"\u001b[0m\u001b[1;33m)\u001b[0m\u001b[1;33m:\u001b[0m\u001b[1;33m\u001b[0m\u001b[1;33m\u001b[0m\u001b[0m\n",
      "\u001b[1;32m~\\anaconda3\\Python\\lib\\site-packages\\pandas\\io\\parsers.py\u001b[0m in \u001b[0;36m_open_handles\u001b[1;34m(self, src, kwds)\u001b[0m\n\u001b[0;32m   1360\u001b[0m         \u001b[0mLet\u001b[0m \u001b[0mthe\u001b[0m \u001b[0mreaders\u001b[0m \u001b[0mopen\u001b[0m \u001b[0mIOHanldes\u001b[0m \u001b[0mafter\u001b[0m \u001b[0mthey\u001b[0m \u001b[0mare\u001b[0m \u001b[0mdone\u001b[0m \u001b[1;32mwith\u001b[0m \u001b[0mtheir\u001b[0m \u001b[0mpotential\u001b[0m \u001b[0mraises\u001b[0m\u001b[1;33m.\u001b[0m\u001b[1;33m\u001b[0m\u001b[1;33m\u001b[0m\u001b[0m\n\u001b[0;32m   1361\u001b[0m         \"\"\"\n\u001b[1;32m-> 1362\u001b[1;33m         self.handles = get_handle(\n\u001b[0m\u001b[0;32m   1363\u001b[0m             \u001b[0msrc\u001b[0m\u001b[1;33m,\u001b[0m\u001b[1;33m\u001b[0m\u001b[1;33m\u001b[0m\u001b[0m\n\u001b[0;32m   1364\u001b[0m             \u001b[1;34m\"r\"\u001b[0m\u001b[1;33m,\u001b[0m\u001b[1;33m\u001b[0m\u001b[1;33m\u001b[0m\u001b[0m\n",
      "\u001b[1;32m~\\anaconda3\\Python\\lib\\site-packages\\pandas\\io\\common.py\u001b[0m in \u001b[0;36mget_handle\u001b[1;34m(path_or_buf, mode, encoding, compression, memory_map, is_text, errors, storage_options)\u001b[0m\n\u001b[0;32m    640\u001b[0m                 \u001b[0merrors\u001b[0m \u001b[1;33m=\u001b[0m \u001b[1;34m\"replace\"\u001b[0m\u001b[1;33m\u001b[0m\u001b[1;33m\u001b[0m\u001b[0m\n\u001b[0;32m    641\u001b[0m             \u001b[1;31m# Encoding\u001b[0m\u001b[1;33m\u001b[0m\u001b[1;33m\u001b[0m\u001b[1;33m\u001b[0m\u001b[0m\n\u001b[1;32m--> 642\u001b[1;33m             handle = open(\n\u001b[0m\u001b[0;32m    643\u001b[0m                 \u001b[0mhandle\u001b[0m\u001b[1;33m,\u001b[0m\u001b[1;33m\u001b[0m\u001b[1;33m\u001b[0m\u001b[0m\n\u001b[0;32m    644\u001b[0m                 \u001b[0mioargs\u001b[0m\u001b[1;33m.\u001b[0m\u001b[0mmode\u001b[0m\u001b[1;33m,\u001b[0m\u001b[1;33m\u001b[0m\u001b[1;33m\u001b[0m\u001b[0m\n",
      "\u001b[1;31mFileNotFoundError\u001b[0m: [Errno 2] No such file or directory: 'Crypto_Fund_List without emails.csv'"
     ]
    }
   ],
   "source": [
    "crypto_df = pd.read_csv(crypto)\n",
    "crypto_df.head()"
   ]
  },
  {
   "cell_type": "code",
   "execution_count": null,
   "id": "faa7a873",
   "metadata": {},
   "outputs": [],
   "source": [
    "bit_dg = \"coin_Bitcoin.csv\""
   ]
  },
  {
   "cell_type": "code",
   "execution_count": null,
   "id": "fb709001",
   "metadata": {},
   "outputs": [],
   "source": [
    "bit_df = pd.read_csv(bit_dg)\n",
    "bit_df.head()"
   ]
  },
  {
   "cell_type": "code",
   "execution_count": null,
   "id": "ceeffe42",
   "metadata": {},
   "outputs": [],
   "source": [
    "len(bit_df)"
   ]
  },
  {
   "cell_type": "code",
   "execution_count": null,
   "id": "4eea5708",
   "metadata": {},
   "outputs": [],
   "source": [
    "file_Dog = \"coin_Dogecoin.csv\""
   ]
  },
  {
   "cell_type": "code",
   "execution_count": null,
   "id": "694d773d",
   "metadata": {},
   "outputs": [],
   "source": [
    "doge_df = pd.read_csv(file_Dog)\n",
    "doge_df.head()"
   ]
  },
  {
   "cell_type": "code",
   "execution_count": null,
   "id": "6c7fd4ff",
   "metadata": {},
   "outputs": [],
   "source": [
    "len(doge_df)"
   ]
  },
  {
   "cell_type": "code",
   "execution_count": null,
   "id": "f20af3c1",
   "metadata": {},
   "outputs": [],
   "source": [
    "bitcoin15to18_df = bit_df[(bit_df['Date'] >\"2015-01-01\") & (bit_df['Date'] <=\"2018-12-31\")]\n",
    "bitcoin15to18_df"
   ]
  },
  {
   "cell_type": "code",
   "execution_count": null,
   "id": "97c7036d",
   "metadata": {},
   "outputs": [],
   "source": [
    "dogecoin15to18_df = doge_df[(doge_df['Date'] > \"2015-01-01\") & (doge_df['Date'] <= \"2018-12-31\")]\n",
    "dogecoin15to18_df"
   ]
  },
  {
   "cell_type": "code",
   "execution_count": null,
   "id": "b39f3ef0",
   "metadata": {},
   "outputs": [],
   "source": [
    "bit2015_df = bit_df[(bit_df['Date'] >\"2015-01-01\") & (bit_df['Date'] <=\"2015-12-31\")]\n",
    "bit2015_df"
   ]
  },
  {
   "cell_type": "code",
   "execution_count": null,
   "id": "c17152a5",
   "metadata": {},
   "outputs": [],
   "source": [
    "doge2015_df = doge_df[(doge_df['Date'] > \"2015-01-01\") & (doge_df['Date'] <= \"2015-12-31\")]\n",
    "doge2015_df"
   ]
  },
  {
   "cell_type": "code",
   "execution_count": null,
   "id": "5a8980cc",
   "metadata": {},
   "outputs": [],
   "source": [
    "bit2016_df = bit_df[(bit_df['Date'] >\"2016-01-01\") & (bit_df['Date'] <=\"2016-12-31\")]\n",
    "bit2016_df"
   ]
  },
  {
   "cell_type": "code",
   "execution_count": null,
   "id": "1d2a12ef",
   "metadata": {},
   "outputs": [],
   "source": [
    "doge2016_df = doge_df[(doge_df['Date'] > \"2016-01-01\") & (doge_df['Date'] <= \"2016-12-31\")]\n",
    "doge2016_df"
   ]
  },
  {
   "cell_type": "code",
   "execution_count": null,
   "id": "251abfa2",
   "metadata": {},
   "outputs": [],
   "source": [
    "bit2017_df = bit_df[(bit_df['Date'] >\"2017-01-01\") & (bit_df['Date'] <=\"2017-12-31\")]\n",
    "bit2017_df"
   ]
  },
  {
   "cell_type": "code",
   "execution_count": null,
   "id": "cdeca5f9",
   "metadata": {},
   "outputs": [],
   "source": [
    "doge2017_df = doge_df[(doge_df['Date'] > \"2017-01-01\") & (doge_df['Date'] <= \"2017-12-31\")]\n",
    "doge2017_df"
   ]
  },
  {
   "cell_type": "code",
   "execution_count": null,
   "id": "c61d54c3",
   "metadata": {},
   "outputs": [],
   "source": [
    "bit2018_df = bit_df[(bit_df['Date'] >\"2018-01-01\") & (bit_df['Date'] <=\"2018-12-31\")]\n",
    "bit2018_df"
   ]
  },
  {
   "cell_type": "code",
   "execution_count": null,
   "id": "aee06ca6",
   "metadata": {},
   "outputs": [],
   "source": [
    "doge2018_df = doge_df[(doge_df['Date'] > \"2018-01-01\") & (doge_df['Date'] <= \"2018-12-31\")]\n",
    "doge2018_df"
   ]
  },
  {
   "cell_type": "code",
   "execution_count": null,
   "id": "ea0feb8d",
   "metadata": {},
   "outputs": [],
   "source": [
    "bitcoin15to18_df_avg = bit_df.groupby(\"Symbol\")[[\"High\",\"Low\",\"Open\",\"Close\",\"Volume\"]].mean()\n",
    "bitcoin15to18_df_avg = pd.DataFrame(bitcoin15to18_df_avg)\n",
    "bitcoin15to18_df_avg"
   ]
  },
  {
   "cell_type": "code",
   "execution_count": null,
   "id": "a6013821",
   "metadata": {},
   "outputs": [],
   "source": [
    "bitcoin15_avg = bit2015_df.groupby(\"Symbol\")[[\"High\",\"Low\",\"Open\",\"Close\",\"Volume\"]].mean()\n",
    "bitcoin15_avg = pd.DataFrame(bitcoin15_avg)\n",
    "bitcoin15_avg.insert(0,\"Year\",[2015])\n",
    "bitcoin15_avg"
   ]
  },
  {
   "cell_type": "code",
   "execution_count": null,
   "id": "2f6a69c9",
   "metadata": {},
   "outputs": [],
   "source": [
    "bitcoin16_avg = bit2016_df.groupby(\"Symbol\")[[\"High\",\"Low\",\"Open\",\"Close\",\"Volume\"]].mean()\n",
    "bitcoin16_avg = pd.DataFrame(bitcoin16_avg)\n",
    "bitcoin16_avg.insert(0,\"Year\",[2016])\n",
    "bitcoin16_avg"
   ]
  },
  {
   "cell_type": "code",
   "execution_count": null,
   "id": "176ef613",
   "metadata": {},
   "outputs": [],
   "source": [
    "bitcoin17_avg = bit2017_df.groupby(\"Symbol\")[[\"High\",\"Low\",\"Open\",\"Close\",\"Volume\"]].mean()\n",
    "bitcoin17_avg = pd.DataFrame(bitcoin17_avg)\n",
    "bitcoin17_avg.insert(0,\"Year\",[2017])\n",
    "bitcoin17_avg"
   ]
  },
  {
   "cell_type": "code",
   "execution_count": null,
   "id": "3e972b03",
   "metadata": {},
   "outputs": [],
   "source": [
    "bitcoin18_avg = bit2018_df.groupby(\"Symbol\")[[\"High\",\"Low\",\"Open\",\"Close\",\"Volume\"]].mean()\n",
    "bitcoin18_avg = pd.DataFrame(bitcoin18_avg)\n",
    "bitcoin18_avg.insert(0,\"Year\",[2018])\n",
    "bitcoin18_avg"
   ]
  },
  {
   "cell_type": "code",
   "execution_count": null,
   "id": "25eb2a5d",
   "metadata": {},
   "outputs": [],
   "source": [
    "bitcoin1516_avg = bitcoin15_avg.append(bitcoin16_avg)\n",
    "bitcoin1516_avg"
   ]
  },
  {
   "cell_type": "code",
   "execution_count": null,
   "id": "c7601f33",
   "metadata": {},
   "outputs": [],
   "source": [
    "bitcoin1718_avg = bitcoin17_avg.append(bitcoin18_avg)\n",
    "bitcoin1718_avg"
   ]
  },
  {
   "cell_type": "code",
   "execution_count": null,
   "id": "77b84248",
   "metadata": {},
   "outputs": [],
   "source": [
    "bitcoin1518_avg = bitcoin1516_avg.append(bitcoin1718_avg)\n",
    "bitcoin1518_avg"
   ]
  },
  {
   "cell_type": "code",
   "execution_count": null,
   "id": "d69a1f04",
   "metadata": {},
   "outputs": [],
   "source": [
    "dogecoin15to18_df_avg = doge_df.groupby(\"Symbol\")[[\"High\",\"Low\",\"Open\",\"Close\",\"Volume\"]].mean()\n",
    "dogecoin15to18_df_avg = pd.DataFrame(dogecoin15to18_df_avg)\n",
    "dogecoin15to18_df_avg"
   ]
  },
  {
   "cell_type": "code",
   "execution_count": null,
   "id": "0a77c7d0",
   "metadata": {},
   "outputs": [],
   "source": [
    "dogecoin15_avg = doge2015_df.groupby(\"Symbol\")[[\"High\",\"Low\",\"Open\",\"Close\",\"Volume\"]].mean()\n",
    "dogecoin15_avg = pd.DataFrame(dogecoin15_avg)\n",
    "dogecoin15_avg.insert(0,\"Year\",[2015])\n",
    "dogecoin15_avg"
   ]
  },
  {
   "cell_type": "code",
   "execution_count": null,
   "id": "783bef42",
   "metadata": {},
   "outputs": [],
   "source": [
    "dogecoin16_avg = doge2016_df.groupby(\"Symbol\")[[\"High\",\"Low\",\"Open\",\"Close\",\"Volume\"]].mean()\n",
    "dogecoin16_avg = pd.DataFrame(dogecoin16_avg)\n",
    "dogecoin16_avg.insert(0,\"Year\",[2016])\n",
    "dogecoin16_avg"
   ]
  },
  {
   "cell_type": "code",
   "execution_count": null,
   "id": "f3cfcb19",
   "metadata": {},
   "outputs": [],
   "source": [
    "dogecoin17_avg = doge2017_df.groupby(\"Symbol\")[[\"High\",\"Low\",\"Open\",\"Close\",\"Volume\"]].mean()\n",
    "dogecoin17_avg = pd.DataFrame(dogecoin17_avg)\n",
    "dogecoin17_avg.insert(0,\"Year\",[2017])\n",
    "dogecoin17_avg"
   ]
  },
  {
   "cell_type": "code",
   "execution_count": null,
   "id": "2ba1c3be",
   "metadata": {},
   "outputs": [],
   "source": [
    "dogecoin18_avg = doge2018_df.groupby(\"Symbol\")[[\"High\",\"Low\",\"Open\",\"Close\",\"Volume\"]].mean()\n",
    "dogecoin18_avg = pd.DataFrame(dogecoin18_avg)\n",
    "dogecoin18_avg.insert(0,\"Year\",[2018])\n",
    "dogecoin18_avg"
   ]
  },
  {
   "cell_type": "code",
   "execution_count": null,
   "id": "ce898009",
   "metadata": {},
   "outputs": [],
   "source": [
    "dogecoin1516_avg = dogecoin15_avg.append(dogecoin16_avg)\n",
    "dogecoin1516_avg"
   ]
  },
  {
   "cell_type": "code",
   "execution_count": null,
   "id": "e68277d7",
   "metadata": {},
   "outputs": [],
   "source": [
    "dogecoin1718_avg = dogecoin17_avg.append(dogecoin18_avg)\n",
    "dogecoin1718_avg"
   ]
  },
  {
   "cell_type": "code",
   "execution_count": null,
   "id": "dbe7e40d",
   "metadata": {},
   "outputs": [],
   "source": [
    "dogecoin1518_avg = dogecoin1516_avg.append(dogecoin1718_avg)\n",
    "dogecoin1518_avg"
   ]
  },
  {
   "cell_type": "code",
   "execution_count": null,
   "id": "4366d382",
   "metadata": {},
   "outputs": [],
   "source": [
    "bitcoin15to18_df_max = bit_df.groupby(\"Symbol\")[[\"High\",\"Low\",\"Open\",\"Close\",\"Volume\"]].max()\n",
    "bitcoin15to18_df_max = pd.DataFrame(bitcoin15to18_df_max)\n",
    "bitcoin15to18_df_max"
   ]
  },
  {
   "cell_type": "code",
   "execution_count": null,
   "id": "0864cfa3",
   "metadata": {},
   "outputs": [],
   "source": [
    "bitcoin15_max = bit2015_df.groupby(\"Symbol\")[[\"High\",\"Low\",\"Open\",\"Close\",\"Volume\"]].max()\n",
    "bitcoin15_max = pd.DataFrame(bitcoin15_max)\n",
    "bitcoin15_max.insert(0,\"Year\",[2015])\n",
    "bitcoin15_max"
   ]
  },
  {
   "cell_type": "code",
   "execution_count": null,
   "id": "6daa18f3",
   "metadata": {},
   "outputs": [],
   "source": [
    "bitcoin16_max = bit2016_df.groupby(\"Symbol\")[[\"High\",\"Low\",\"Open\",\"Close\",\"Volume\"]].max()\n",
    "bitcoin16_max = pd.DataFrame(bitcoin16_max)\n",
    "bitcoin16_max.insert(0,\"Year\",[2016])\n",
    "bitcoin16_max"
   ]
  },
  {
   "cell_type": "code",
   "execution_count": null,
   "id": "0bee0375",
   "metadata": {},
   "outputs": [],
   "source": [
    "bitcoin17_max = bit2017_df.groupby(\"Symbol\")[[\"High\",\"Low\",\"Open\",\"Close\",\"Volume\"]].max()\n",
    "bitcoin17_max = pd.DataFrame(bitcoin17_max)\n",
    "bitcoin17_max.insert(0,\"Year\",[2017])\n",
    "bitcoin17_max"
   ]
  },
  {
   "cell_type": "code",
   "execution_count": null,
   "id": "c233b372",
   "metadata": {},
   "outputs": [],
   "source": [
    "bitcoin18_max = bit2018_df.groupby(\"Symbol\")[[\"High\",\"Low\",\"Open\",\"Close\",\"Volume\"]].max()\n",
    "bitcoin18_max = pd.DataFrame(bitcoin18_max)\n",
    "bitcoin18_max.insert(0,\"Year\",[2018])\n",
    "bitcoin18_max"
   ]
  },
  {
   "cell_type": "code",
   "execution_count": null,
   "id": "9b9c7bc7",
   "metadata": {},
   "outputs": [],
   "source": [
    "bitcoin1516_max = bitcoin15_max.append(bitcoin16_max)\n",
    "bitcoin1516_max"
   ]
  },
  {
   "cell_type": "code",
   "execution_count": null,
   "id": "cf77d3bf",
   "metadata": {},
   "outputs": [],
   "source": [
    "bitcoin1718_max = bitcoin17_max.append(bitcoin18_max)\n",
    "bitcoin1718_max"
   ]
  },
  {
   "cell_type": "code",
   "execution_count": null,
   "id": "8b9727dd",
   "metadata": {},
   "outputs": [],
   "source": [
    "bitcoin1518_max = bitcoin1516_max.append(bitcoin1718_max)\n",
    "bitcoin1518_max"
   ]
  },
  {
   "cell_type": "code",
   "execution_count": null,
   "id": "481d6e49",
   "metadata": {},
   "outputs": [],
   "source": [
    "dogecoin15to18_df_max = doge_df.groupby(\"Symbol\")[[\"High\",\"Low\",\"Open\",\"Close\",\"Volume\"]].max()\n",
    "dogecoin15to18_df_max = pd.DataFrame(dogecoin15to18_df_max)\n",
    "dogecoin15to18_df_max"
   ]
  },
  {
   "cell_type": "code",
   "execution_count": null,
   "id": "926669c9",
   "metadata": {},
   "outputs": [],
   "source": [
    "dogecoin15_max = doge2015_df.groupby(\"Symbol\")[[\"High\",\"Low\",\"Open\",\"Close\",\"Volume\"]].max()\n",
    "dogecoin15_max = pd.DataFrame(dogecoin15_max)\n",
    "dogecoin15_max.insert(0,\"Year\",[2015])\n",
    "dogecoin15_max"
   ]
  },
  {
   "cell_type": "code",
   "execution_count": null,
   "id": "2cc6f673",
   "metadata": {},
   "outputs": [],
   "source": [
    "dogecoin16_max = doge2016_df.groupby(\"Symbol\")[[\"High\",\"Low\",\"Open\",\"Close\",\"Volume\"]].max()\n",
    "dogecoin16_max = pd.DataFrame(dogecoin16_max)\n",
    "dogecoin16_max.insert(0,\"Year\",[2016])\n",
    "dogecoin16_max"
   ]
  },
  {
   "cell_type": "code",
   "execution_count": null,
   "id": "a29c616a",
   "metadata": {},
   "outputs": [],
   "source": [
    "dogecoin17_max = doge2017_df.groupby(\"Symbol\")[[\"High\",\"Low\",\"Open\",\"Close\",\"Volume\"]].max()\n",
    "dogecoin17_max = pd.DataFrame(dogecoin17_max)\n",
    "dogecoin17_max.insert(0,\"Year\",[2017])\n",
    "dogecoin17_max"
   ]
  },
  {
   "cell_type": "code",
   "execution_count": null,
   "id": "0cd2df24",
   "metadata": {},
   "outputs": [],
   "source": [
    "dogecoin18_max = doge2018_df.groupby(\"Symbol\")[[\"High\",\"Low\",\"Open\",\"Close\",\"Volume\"]].max()\n",
    "dogecoin18_max = pd.DataFrame(dogecoin18_max)\n",
    "dogecoin18_max.insert(0,\"Year\",[2018])\n",
    "dogecoin18_max"
   ]
  },
  {
   "cell_type": "code",
   "execution_count": null,
   "id": "0d4451d6",
   "metadata": {},
   "outputs": [],
   "source": [
    "dogecoin1516_max = dogecoin15_max.append(dogecoin16_max)\n",
    "dogecoin1516_max"
   ]
  },
  {
   "cell_type": "code",
   "execution_count": null,
   "id": "98a56034",
   "metadata": {},
   "outputs": [],
   "source": [
    "dogecoin1718_max = dogecoin17_max.append(dogecoin18_max)\n",
    "dogecoin1718_max"
   ]
  },
  {
   "cell_type": "code",
   "execution_count": null,
   "id": "a0145234",
   "metadata": {},
   "outputs": [],
   "source": [
    "dogecoin1518_max = dogecoin1516_max.append(dogecoin1718_max)\n",
    "dogecoin1518_max"
   ]
  },
  {
   "cell_type": "code",
   "execution_count": null,
   "id": "d3acaf8d",
   "metadata": {},
   "outputs": [],
   "source": [
    "bitcoin15to18_df_min = bit_df.groupby(\"Symbol\")[[\"High\",\"Low\",\"Open\",\"Close\",\"Volume\"]].min()\n",
    "bitcoin15to18_df_min = pd.DataFrame(bitcoin15to18_df_min)\n",
    "bitcoin15to18_df_min"
   ]
  },
  {
   "cell_type": "code",
   "execution_count": null,
   "id": "2a2c392a",
   "metadata": {},
   "outputs": [],
   "source": [
    "bitcoin15_min = bit2015_df.groupby(\"Symbol\")[[\"High\",\"Low\",\"Open\",\"Close\",\"Volume\"]].min()\n",
    "bitcoin15_min = pd.DataFrame(bitcoin15_min)\n",
    "bitcoin15_min.insert(0,\"Year\",[2015])\n",
    "bitcoin15_min"
   ]
  },
  {
   "cell_type": "code",
   "execution_count": null,
   "id": "ab3bb2df",
   "metadata": {},
   "outputs": [],
   "source": [
    "bitcoin16_min = bit2016_df.groupby(\"Symbol\")[[\"High\",\"Low\",\"Open\",\"Close\",\"Volume\"]].min()\n",
    "bitcoin16_min = pd.DataFrame(bitcoin16_min)\n",
    "bitcoin16_min.insert(0,\"Year\",[2016])\n",
    "bitcoin16_min"
   ]
  },
  {
   "cell_type": "code",
   "execution_count": null,
   "id": "8cad54d7",
   "metadata": {},
   "outputs": [],
   "source": [
    "bitcoin17_min = bit2017_df.groupby(\"Symbol\")[[\"High\",\"Low\",\"Open\",\"Close\",\"Volume\"]].min()\n",
    "bitcoin17_min = pd.DataFrame(bitcoin17_min)\n",
    "bitcoin17_min.insert(0,\"Year\",[2017])\n",
    "bitcoin17_min"
   ]
  },
  {
   "cell_type": "code",
   "execution_count": null,
   "id": "97ba77d3",
   "metadata": {},
   "outputs": [],
   "source": [
    "bitcoin18_min = bit2018_df.groupby(\"Symbol\")[[\"High\",\"Low\",\"Open\",\"Close\",\"Volume\"]].min()\n",
    "bitcoin18_min = pd.DataFrame(bitcoin18_min)\n",
    "bitcoin18_min.insert(0,\"Year\",[2018])\n",
    "bitcoin18_min"
   ]
  },
  {
   "cell_type": "code",
   "execution_count": null,
   "id": "e6868bf5",
   "metadata": {},
   "outputs": [],
   "source": [
    "bitcoin1516_min = bitcoin15_min.append(bitcoin16_min)\n",
    "bitcoin1516_min"
   ]
  },
  {
   "cell_type": "code",
   "execution_count": null,
   "id": "cb15be4a",
   "metadata": {},
   "outputs": [],
   "source": [
    "bitcoin1718_min = bitcoin17_min.append(bitcoin18_min)\n",
    "bitcoin1718_min"
   ]
  },
  {
   "cell_type": "code",
   "execution_count": null,
   "id": "f59c908b",
   "metadata": {},
   "outputs": [],
   "source": [
    "bitcoin1518_min = bitcoin1516_min.append(bitcoin1718_min)\n",
    "bitcoin1518_min"
   ]
  },
  {
   "cell_type": "code",
   "execution_count": null,
   "id": "0a18a1e8",
   "metadata": {},
   "outputs": [],
   "source": [
    "dogecoin15to18_df_min = doge_df.groupby(\"Symbol\")[[\"High\",\"Low\",\"Open\",\"Close\",\"Volume\"]].min()\n",
    "dogecoin15to18_df_min = pd.DataFrame(dogecoin15to18_df_min)\n",
    "dogecoin15to18_df_min"
   ]
  },
  {
   "cell_type": "code",
   "execution_count": null,
   "id": "6426dd33",
   "metadata": {},
   "outputs": [],
   "source": [
    "dogecoin15_min = doge2015_df.groupby(\"Symbol\")[[\"High\",\"Low\",\"Open\",\"Close\",\"Volume\"]].min()\n",
    "dogecoin15_min = pd.DataFrame(dogecoin15_min)\n",
    "dogecoin15_min.insert(0,\"Year\",[2015])\n",
    "dogecoin15_min"
   ]
  },
  {
   "cell_type": "code",
   "execution_count": null,
   "id": "f4ebbb44",
   "metadata": {},
   "outputs": [],
   "source": [
    "dogecoin16_min = doge2016_df.groupby(\"Symbol\")[[\"High\",\"Low\",\"Open\",\"Close\",\"Volume\"]].min()\n",
    "dogecoin16_min = pd.DataFrame(dogecoin16_min)\n",
    "dogecoin16_min.insert(0,\"Year\",[2016])\n",
    "dogecoin16_min"
   ]
  },
  {
   "cell_type": "code",
   "execution_count": null,
   "id": "48bee2cb",
   "metadata": {},
   "outputs": [],
   "source": [
    "dogecoin17_min = doge2017_df.groupby(\"Symbol\")[[\"High\",\"Low\",\"Open\",\"Close\",\"Volume\"]].min()\n",
    "dogecoin17_min = pd.DataFrame(dogecoin17_min)\n",
    "dogecoin17_min.insert(0,\"Year\",[2017])\n",
    "dogecoin17_min"
   ]
  },
  {
   "cell_type": "code",
   "execution_count": null,
   "id": "b0c41891",
   "metadata": {},
   "outputs": [],
   "source": [
    "dogecoin18_min = doge2018_df.groupby(\"Symbol\")[[\"High\",\"Low\",\"Open\",\"Close\",\"Volume\"]].min()\n",
    "dogecoin18_min = pd.DataFrame(dogecoin18_min)\n",
    "dogecoin18_min.insert(0,\"Year\",[2018])\n",
    "dogecoin18_min"
   ]
  },
  {
   "cell_type": "code",
   "execution_count": null,
   "id": "0c5d208c",
   "metadata": {},
   "outputs": [],
   "source": [
    "dogecoin1516_min = dogecoin15_min.append(dogecoin16_min)\n",
    "dogecoin1516_min"
   ]
  },
  {
   "cell_type": "code",
   "execution_count": null,
   "id": "a85b79fa",
   "metadata": {},
   "outputs": [],
   "source": [
    "dogecoin1718_min = dogecoin17_min.append(dogecoin18_min)\n",
    "dogecoin1718_min"
   ]
  },
  {
   "cell_type": "code",
   "execution_count": null,
   "id": "a8af6df3",
   "metadata": {},
   "outputs": [],
   "source": [
    "dogecoin1518_min = dogecoin1516_min.append(dogecoin1718_min)\n",
    "dogecoin1518_min"
   ]
  },
  {
   "cell_type": "code",
   "execution_count": null,
   "id": "03ac4c19",
   "metadata": {},
   "outputs": [],
   "source": [
    "plt.plot(bitcoin1518_max['Year'], bitcoin1518_max[\"High\"], color='blue')\n",
    "plt.title('Bitcoin Max High 2015-2018', fontsize=14)\n",
    "plt.xlabel('Year', fontsize=14)\n",
    "plt.ylabel('Max High', fontsize=14)\n",
    "plt.grid(True)\n",
    "plt.show"
   ]
  },
  {
   "cell_type": "code",
   "execution_count": null,
   "id": "fb246ddd",
   "metadata": {},
   "outputs": [],
   "source": [
    "plt.plot(bitcoin1518_avg['Year'], bitcoin1518_avg[\"High\"], color='blue')\n",
    "plt.title('Bitcoin Mean High 2015-2018', fontsize=14)\n",
    "plt.xlabel('Year', fontsize=14)\n",
    "plt.ylabel('Mean High', fontsize=14)\n",
    "plt.grid(True)\n",
    "plt.show"
   ]
  },
  {
   "cell_type": "code",
   "execution_count": null,
   "id": "f42fb483",
   "metadata": {},
   "outputs": [],
   "source": [
    "bitcoin1518_min = bitcoin1516_min.append(bitcoin1718_min)\n",
    "bitcoin1518_min\n",
    "\n",
    "plt.plot(bitcoin1518_min['Year'], bitcoin1518_min[\"High\"], color='blue')\n",
    "plt.title('Bitcoin Min High 2015-2018', fontsize=14)\n",
    "plt.xlabel('Year', fontsize=14)\n",
    "plt.ylabel('Min High', fontsize=14)\n",
    "plt.grid(True)\n",
    "plt.show"
   ]
  },
  {
   "cell_type": "code",
   "execution_count": null,
   "id": "3fd25c4f",
   "metadata": {},
   "outputs": [],
   "source": []
  }
 ],
 "metadata": {
  "kernelspec": {
   "display_name": "Python 3",
   "language": "python",
   "name": "python3"
  },
  "language_info": {
   "codemirror_mode": {
    "name": "ipython",
    "version": 3
   },
   "file_extension": ".py",
   "mimetype": "text/x-python",
   "name": "python",
   "nbconvert_exporter": "python",
   "pygments_lexer": "ipython3",
   "version": "3.8.8"
  }
 },
 "nbformat": 4,
 "nbformat_minor": 5
}
